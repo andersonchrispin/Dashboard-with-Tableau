{
 "cells": [
  {
   "cell_type": "code",
   "execution_count": 4,
   "metadata": {},
   "outputs": [],
   "source": [
    "import pandas as pd\n",
    "import json\n",
    "from datetime import datetime\n",
    "import seaborn as sns\n",
    "import matplotlib.pyplot as plt"
   ]
  },
  {
   "attachments": {},
   "cell_type": "markdown",
   "metadata": {},
   "source": [
    "### Parsing and EDA"
   ]
  },
  {
   "cell_type": "code",
   "execution_count": 18,
   "metadata": {},
   "outputs": [
    {
     "data": {
      "text/html": [
       "<div>\n",
       "<style scoped>\n",
       "    .dataframe tbody tr th:only-of-type {\n",
       "        vertical-align: middle;\n",
       "    }\n",
       "\n",
       "    .dataframe tbody tr th {\n",
       "        vertical-align: top;\n",
       "    }\n",
       "\n",
       "    .dataframe thead th {\n",
       "        text-align: right;\n",
       "    }\n",
       "</style>\n",
       "<table border=\"1\" class=\"dataframe\">\n",
       "  <thead>\n",
       "    <tr style=\"text-align: right;\">\n",
       "      <th></th>\n",
       "      <th>date</th>\n",
       "      <th>region</th>\n",
       "      <th>earnings</th>\n",
       "    </tr>\n",
       "  </thead>\n",
       "  <tbody>\n",
       "    <tr>\n",
       "      <th>0</th>\n",
       "      <td>20</td>\n",
       "      <td>Alberta</td>\n",
       "      <td>1159.89</td>\n",
       "    </tr>\n",
       "    <tr>\n",
       "      <th>1</th>\n",
       "      <td>19</td>\n",
       "      <td>Alberta</td>\n",
       "      <td>1163.69</td>\n",
       "    </tr>\n",
       "    <tr>\n",
       "      <th>2</th>\n",
       "      <td>18</td>\n",
       "      <td>Alberta</td>\n",
       "      <td>1160.77</td>\n",
       "    </tr>\n",
       "    <tr>\n",
       "      <th>3</th>\n",
       "      <td>17</td>\n",
       "      <td>Alberta</td>\n",
       "      <td>1159.60</td>\n",
       "    </tr>\n",
       "    <tr>\n",
       "      <th>4</th>\n",
       "      <td>16</td>\n",
       "      <td>Alberta</td>\n",
       "      <td>1158.79</td>\n",
       "    </tr>\n",
       "    <tr>\n",
       "      <th>...</th>\n",
       "      <td>...</td>\n",
       "      <td>...</td>\n",
       "      <td>...</td>\n",
       "    </tr>\n",
       "    <tr>\n",
       "      <th>83</th>\n",
       "      <td>17</td>\n",
       "      <td>Saskatchewan</td>\n",
       "      <td>991.30</td>\n",
       "    </tr>\n",
       "    <tr>\n",
       "      <th>84</th>\n",
       "      <td>16</td>\n",
       "      <td>Saskatchewan</td>\n",
       "      <td>982.60</td>\n",
       "    </tr>\n",
       "    <tr>\n",
       "      <th>85</th>\n",
       "      <td>15</td>\n",
       "      <td>Saskatchewan</td>\n",
       "      <td>991.21</td>\n",
       "    </tr>\n",
       "    <tr>\n",
       "      <th>86</th>\n",
       "      <td>14</td>\n",
       "      <td>Saskatchewan</td>\n",
       "      <td>988.79</td>\n",
       "    </tr>\n",
       "    <tr>\n",
       "      <th>87</th>\n",
       "      <td>13</td>\n",
       "      <td>Saskatchewan</td>\n",
       "      <td>977.35</td>\n",
       "    </tr>\n",
       "  </tbody>\n",
       "</table>\n",
       "<p>88 rows × 3 columns</p>\n",
       "</div>"
      ],
      "text/plain": [
       "    date        region  earnings\n",
       "0     20       Alberta   1159.89\n",
       "1     19       Alberta   1163.69\n",
       "2     18       Alberta   1160.77\n",
       "3     17       Alberta   1159.60\n",
       "4     16       Alberta   1158.79\n",
       "..   ...           ...       ...\n",
       "83    17  Saskatchewan    991.30\n",
       "84    16  Saskatchewan    982.60\n",
       "85    15  Saskatchewan    991.21\n",
       "86    14  Saskatchewan    988.79\n",
       "87    13  Saskatchewan    977.35\n",
       "\n",
       "[88 rows x 3 columns]"
      ]
     },
     "execution_count": 18,
     "metadata": {},
     "output_type": "execute_result"
    }
   ],
   "source": [
    "#reading json file\n",
    "with open('C:/Users/ander/LightHouseNotes/final-project-tableau/Data/Old data/weekly_earnings.json') as f:\n",
    "   message = json.load(f)\n",
    "\n",
    "#selecting the data\n",
    "message = message['meta']['view']['columns']\n",
    "\n",
    "date = []\n",
    "region = []\n",
    "earnings = []\n",
    "for i in message:\n",
    "      for j in i['cachedContents']['top']:\n",
    "            date.insert(len(date), j['count'])\n",
    "            region.insert(len(region), i['name'])\n",
    "            earnings.insert(len(earnings), float(j['item']))\n",
    "            \n",
    "#gathering the collected data\n",
    "table = pd.DataFrame()\n",
    "table['date'] = date\n",
    "table['region'] = region\n",
    "table['earnings'] = earnings\n",
    "table"
   ]
  },
  {
   "cell_type": "code",
   "execution_count": 19,
   "metadata": {},
   "outputs": [
    {
     "data": {
      "text/html": [
       "<div>\n",
       "<style scoped>\n",
       "    .dataframe tbody tr th:only-of-type {\n",
       "        vertical-align: middle;\n",
       "    }\n",
       "\n",
       "    .dataframe tbody tr th {\n",
       "        vertical-align: top;\n",
       "    }\n",
       "\n",
       "    .dataframe thead th {\n",
       "        text-align: right;\n",
       "    }\n",
       "</style>\n",
       "<table border=\"1\" class=\"dataframe\">\n",
       "  <thead>\n",
       "    <tr style=\"text-align: right;\">\n",
       "      <th></th>\n",
       "      <th>date</th>\n",
       "      <th>region</th>\n",
       "      <th>earnings</th>\n",
       "    </tr>\n",
       "  </thead>\n",
       "  <tbody>\n",
       "    <tr>\n",
       "      <th>0</th>\n",
       "      <td>2020-01-01</td>\n",
       "      <td>Alberta</td>\n",
       "      <td>1159.89</td>\n",
       "    </tr>\n",
       "    <tr>\n",
       "      <th>1</th>\n",
       "      <td>2019-01-01</td>\n",
       "      <td>Alberta</td>\n",
       "      <td>1163.69</td>\n",
       "    </tr>\n",
       "    <tr>\n",
       "      <th>2</th>\n",
       "      <td>2018-01-01</td>\n",
       "      <td>Alberta</td>\n",
       "      <td>1160.77</td>\n",
       "    </tr>\n",
       "    <tr>\n",
       "      <th>3</th>\n",
       "      <td>2017-01-01</td>\n",
       "      <td>Alberta</td>\n",
       "      <td>1159.60</td>\n",
       "    </tr>\n",
       "    <tr>\n",
       "      <th>4</th>\n",
       "      <td>2016-01-01</td>\n",
       "      <td>Alberta</td>\n",
       "      <td>1158.79</td>\n",
       "    </tr>\n",
       "    <tr>\n",
       "      <th>...</th>\n",
       "      <td>...</td>\n",
       "      <td>...</td>\n",
       "      <td>...</td>\n",
       "    </tr>\n",
       "    <tr>\n",
       "      <th>83</th>\n",
       "      <td>2017-01-01</td>\n",
       "      <td>Saskatchewan</td>\n",
       "      <td>991.30</td>\n",
       "    </tr>\n",
       "    <tr>\n",
       "      <th>84</th>\n",
       "      <td>2016-01-01</td>\n",
       "      <td>Saskatchewan</td>\n",
       "      <td>982.60</td>\n",
       "    </tr>\n",
       "    <tr>\n",
       "      <th>85</th>\n",
       "      <td>2015-01-01</td>\n",
       "      <td>Saskatchewan</td>\n",
       "      <td>991.21</td>\n",
       "    </tr>\n",
       "    <tr>\n",
       "      <th>86</th>\n",
       "      <td>2014-01-01</td>\n",
       "      <td>Saskatchewan</td>\n",
       "      <td>988.79</td>\n",
       "    </tr>\n",
       "    <tr>\n",
       "      <th>87</th>\n",
       "      <td>2013-01-01</td>\n",
       "      <td>Saskatchewan</td>\n",
       "      <td>977.35</td>\n",
       "    </tr>\n",
       "  </tbody>\n",
       "</table>\n",
       "<p>88 rows × 3 columns</p>\n",
       "</div>"
      ],
      "text/plain": [
       "         date        region  earnings\n",
       "0  2020-01-01       Alberta   1159.89\n",
       "1  2019-01-01       Alberta   1163.69\n",
       "2  2018-01-01       Alberta   1160.77\n",
       "3  2017-01-01       Alberta   1159.60\n",
       "4  2016-01-01       Alberta   1158.79\n",
       "..        ...           ...       ...\n",
       "83 2017-01-01  Saskatchewan    991.30\n",
       "84 2016-01-01  Saskatchewan    982.60\n",
       "85 2015-01-01  Saskatchewan    991.21\n",
       "86 2014-01-01  Saskatchewan    988.79\n",
       "87 2013-01-01  Saskatchewan    977.35\n",
       "\n",
       "[88 rows x 3 columns]"
      ]
     },
     "execution_count": 19,
     "metadata": {},
     "output_type": "execute_result"
    }
   ],
   "source": [
    "#changing date column to datetime format\n",
    "date = []\n",
    "for i in table['date']:\n",
    "    date.insert(len(date), datetime.strptime(str(i), '%y'))\n",
    "\n",
    "table['date'] = date\n",
    "table\n"
   ]
  },
  {
   "cell_type": "code",
   "execution_count": 20,
   "metadata": {},
   "outputs": [
    {
     "name": "stdout",
     "output_type": "stream",
     "text": [
      "<class 'pandas.core.frame.DataFrame'>\n",
      "RangeIndex: 88 entries, 0 to 87\n",
      "Data columns (total 3 columns):\n",
      " #   Column    Non-Null Count  Dtype         \n",
      "---  ------    --------------  -----         \n",
      " 0   date      88 non-null     datetime64[ns]\n",
      " 1   region    88 non-null     object        \n",
      " 2   earnings  88 non-null     float64       \n",
      "dtypes: datetime64[ns](1), float64(1), object(1)\n",
      "memory usage: 2.2+ KB\n"
     ]
    }
   ],
   "source": [
    "#checking for Null values and columns type\n",
    "table.info()"
   ]
  },
  {
   "cell_type": "code",
   "execution_count": 21,
   "metadata": {},
   "outputs": [
    {
     "name": "stdout",
     "output_type": "stream",
     "text": [
      "date:['2020-01-01T00:00:00.000000000' '2019-01-01T00:00:00.000000000'\n",
      " '2018-01-01T00:00:00.000000000' '2017-01-01T00:00:00.000000000'\n",
      " '2016-01-01T00:00:00.000000000' '2015-01-01T00:00:00.000000000'\n",
      " '2014-01-01T00:00:00.000000000' '2013-01-01T00:00:00.000000000']\n",
      "region:['Alberta' 'BritishColumbia' 'Canada' 'Manitoba' 'NewBrunswick'\n",
      " 'NewfoundlandAndLabrador' 'NovaScotia' 'Ontario' 'PrinceEdwardIsland'\n",
      " 'Quebec' 'Saskatchewan']\n",
      "earnings:[1159.89 1163.69 1160.77 1159.6  1158.79 1176.32 1173.23 1150.61  896.29\n",
      "  901.86  902.69  904.11  911.57  919.2   911.73  899.15  934.74  940.68\n",
      "  937.83  948.4   944.98  957.8   956.5   954.7   869.33  872.41  862.07\n",
      "  886.94  875.17  873.35  865.29  864.69  836.43  838.49  838.71  856.35\n",
      "  842.03  854.39  848.22  864.81  997.27 1001.57 1007.37 1006.98 1007.2\n",
      " 1015.85 1022.75 1019.61  811.21  820.12  816.48  836.76  830.52  829.09\n",
      "  823.01  835.31  935.3   936.71  938.67  950.38  951.1   969.17  968.75\n",
      "  964.8   757.86  774.24  782.53  803.66  794.39  792.26  800.1   809.92\n",
      "  842.92  858.82  844.51  862.12  846.73  857.53  861.1   881.27  979.19\n",
      "  984.95  992.31  991.3   982.6   991.21  988.79  977.35]\n"
     ]
    }
   ],
   "source": [
    "#checking for wrong entries\n",
    "for i in table.columns:\n",
    "    print('{}:{}'.format(i,table[i].unique()))"
   ]
  },
  {
   "cell_type": "code",
   "execution_count": 22,
   "metadata": {},
   "outputs": [
    {
     "data": {
      "text/plain": [
       "<Axes: >"
      ]
     },
     "execution_count": 22,
     "metadata": {},
     "output_type": "execute_result"
    },
    {
     "data": {
      "image/png": "[encoded data removed]",
      "text/plain": [
       "<Figure size 100x100 with 1 Axes>"
      ]
     },
     "metadata": {},
     "output_type": "display_data"
    }
   ],
   "source": [
    "#visualizing missing values\n",
    "plt.figure(figsize=(1,1))\n",
    "sns.heatmap(table.isnull(), cbar=False,cmap='viridis')"
   ]
  },
  {
   "cell_type": "code",
   "execution_count": 23,
   "metadata": {},
   "outputs": [
    {
     "data": {
      "text/plain": [
       "count    87.000000\n",
       "mean     -0.000654\n",
       "std       0.049311\n",
       "min      -0.221031\n",
       "25%      -0.003842\n",
       "50%       0.001508\n",
       "75%       0.011772\n",
       "max       0.153167\n",
       "Name: earnings, dtype: float64"
      ]
     },
     "execution_count": 23,
     "metadata": {},
     "output_type": "execute_result"
    }
   ],
   "source": [
    "#checking for the distribution of percent change of earnings\n",
    "table['earnings'].pct_change().describe()\n"
   ]
  },
  {
   "cell_type": "code",
   "execution_count": null,
   "metadata": {},
   "outputs": [],
   "source": [
    "#saving the results\n",
    "table.to_csv('C:/Users/ander/LightHouseNotes/final-project-tableau/Data/Cleaned data/weekly_earnings.csv', index=False)\n",
    "table\n"
   ]
  }
 ],
 "metadata": {
  "kernelspec": {
   "display_name": "test_env",
   "language": "python",
   "name": "test_env"
  },
  "language_info": {
   "codemirror_mode": {
    "name": "ipython",
    "version": 3
   },
   "file_extension": ".py",
   "mimetype": "text/x-python",
   "name": "python",
   "nbconvert_exporter": "python",
   "pygments_lexer": "ipython3",
   "version": "3.10.9"
  },
  "orig_nbformat": 4
 },
 "nbformat": 4,
 "nbformat_minor": 2
}
